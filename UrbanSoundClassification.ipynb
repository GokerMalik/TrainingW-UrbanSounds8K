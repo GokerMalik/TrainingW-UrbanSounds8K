{
 "cells": [
  {
   "cell_type": "markdown",
   "id": "386b9ee9-5fda-42d4-89e9-7da7b8ba2f08",
   "metadata": {},
   "source": [
    "Import all the required libraries"
   ]
  },
  {
   "cell_type": "code",
   "execution_count": 1,
   "id": "ce87a901-c4bc-4e17-a166-8ea29730a979",
   "metadata": {},
   "outputs": [],
   "source": [
    "#Librosa to process sound files\n",
    "import librosa\n",
    "from librosa import display\n",
    "#numpy to create arrays\n",
    "import numpy\n",
    "#os to scan internal files\n",
    "import os\n",
    "#matplotlib to get spectograms\n",
    "import matplotlib.pyplot"
   ]
  },
  {
   "cell_type": "markdown",
   "id": "76fee7f3-10ff-4be3-b812-8a9918f31d5b",
   "metadata": {},
   "source": [
    "Define create spectogram function"
   ]
  },
  {
   "cell_type": "code",
   "execution_count": 2,
   "id": "da4dfa1c-9412-477b-bc59-7ed76ed731db",
   "metadata": {},
   "outputs": [],
   "source": [
    "def create_spectogram(ats, timR):\n",
    "    spec = librosa.feature.melspectrogram(y=ats, sr = timR)\n",
    "    spec_convert = librosa.amplitude_to_db(spec, ref=numpy.max)\n",
    "    return spec_convert"
   ]
  },
  {
   "cell_type": "markdown",
   "id": "9ab4be94-e3b3-40e4-96d0-7c4f622d08d9",
   "metadata": {},
   "source": [
    "Import a local example to test spectogram function."
   ]
  },
  {
   "cell_type": "code",
   "execution_count": 3,
   "id": "8aad4689-9175-4465-b329-50f86a9e8931",
   "metadata": {},
   "outputs": [],
   "source": [
    "sound1 = 'UrbanSound8K/audio/fold1/7061-6-0-0.wav'\n",
    "ats1, sr1 = librosa.load(sound1)\n",
    "\n",
    "sound2 = 'UrbanSound8K/audio/fold1/7383-3-0-0.wav'\n",
    "ats2, sr2 = librosa.load(sound2)"
   ]
  },
  {
   "cell_type": "markdown",
   "id": "72e28826",
   "metadata": {},
   "source": [
    "Compare the spectograms that are obtained from different files and see how the length affects"
   ]
  },
  {
   "cell_type": "code",
   "execution_count": 4,
   "id": "e4701257",
   "metadata": {},
   "outputs": [
    {
     "name": "stdout",
     "output_type": "stream",
     "text": [
      "sound 1 sample rate: 22050 sound 2 sample rate: 22050 \n",
      "sound 1 atsLength: 49613 sound 2 atsLength: 88200\n"
     ]
    }
   ],
   "source": [
    "print(f\"sound 1 sample rate: {sr1} sound 2 sample rate: {sr2} \\nsound 1 atsLength: {len(ats1)} sound 2 atsLength: {len(ats2)}\")"
   ]
  },
  {
   "cell_type": "markdown",
   "id": "10eb1688-53d7-41bf-9bef-32d485fb5c0d",
   "metadata": {},
   "source": [
    "Test the spectogram function"
   ]
  },
  {
   "cell_type": "code",
   "execution_count": 5,
   "id": "c2060a57-2bf7-416b-9ec6-ff063d4daa4a",
   "metadata": {},
   "outputs": [
    {
     "name": "stdout",
     "output_type": "stream",
     "text": [
      "spectogram1 = 128 spectogram2 = 128\n"
     ]
    }
   ],
   "source": [
    "spectogram1 = create_spectogram(ats1, sr1)\n",
    "spectogram2 = create_spectogram(ats2, sr2)\n",
    "\n",
    "print(f\"spectogram1 = {len(spectogram1)} spectogram2 = {len(spectogram2)}\")"
   ]
  },
  {
   "cell_type": "markdown",
   "id": "66e8207c",
   "metadata": {},
   "source": [
    "Length of the sounds are different. However, the length of the data is the same. Check the structure of the data for the both files."
   ]
  },
  {
   "cell_type": "code",
   "execution_count": 6,
   "id": "95c80061",
   "metadata": {},
   "outputs": [
    {
     "name": "stdout",
     "output_type": "stream",
     "text": [
      "s1 = (128, 97), s2 = (128, 173)\n"
     ]
    }
   ],
   "source": [
    "print(f\"s1 = {spectogram1.shape}, s2 = {spectogram2.shape}\")"
   ]
  },
  {
   "cell_type": "markdown",
   "id": "2f2c07ac",
   "metadata": {},
   "source": [
    "both files have a list of 128 elements. On the other hand, the content of the list differs. Check what data implies empty space. Turn spectograms into graphs."
   ]
  },
  {
   "cell_type": "code",
   "execution_count": 7,
   "id": "95088f38-76de-475f-b28e-3f5e1d1c7e06",
   "metadata": {
    "scrolled": true
   },
   "outputs": [
    {
     "name": "stderr",
     "output_type": "stream",
     "text": [
      "C:\\Users\\goker\\AppData\\Local\\Programs\\Python\\Python310\\lib\\site-packages\\IPython\\core\\pylabtools.py:151: UserWarning: This figure includes Axes that are not compatible with tight_layout, so results might be incorrect.\n",
      "  fig.canvas.print_figure(bytes_io, **kw)\n"
     ]
    },
    {
     "data": {
      "image/png": "[encoded data removed]",
      "text/plain": [
       "<Figure size 256x256 with 1 Axes>"
      ]
     },
     "metadata": {},
     "output_type": "display_data"
    }
   ],
   "source": [
    "SampRate = 22050 #obtained above\n",
    "\n",
    "#let's use 256x256 canvas to plot Hz density across the time.\n",
    "matplotlib.pyplot.rcParams[\"figure.figsize\"] = [2.56, 2.56]\n",
    "matplotlib.pyplot.rcParams[\"figure.autolayout\"] = True\n",
    "\n",
    "fig, ax = matplotlib.pyplot.subplots(frameon = False)\n",
    "\n",
    "img = librosa.display.specshow(spectogram2, x_axis='off', y_axis='off', sr=sr1, fmax=8000, ax=ax)\n",
    "\n",
    "#plt.savefig(\"out.png\")\n",
    "#plt.show()"
   ]
  },
  {
   "cell_type": "markdown",
   "id": "0dc130cb-dccf-413b-bb42-9ddc6c36c215",
   "metadata": {},
   "source": [
    "Upper right corner and the lower left corner of the both graph is empty black. By investigating this, we can see what represent black. Check the last five column of the last 5 row to see if the numbers are the same."
   ]
  },
  {
   "cell_type": "code",
   "execution_count": 8,
   "id": "a51700e0",
   "metadata": {},
   "outputs": [
    {
     "name": "stdout",
     "output_type": "stream",
     "text": [
      "[-80. -80. -80. -80. -80.]\n",
      "[-80. -80. -80. -80. -80.]\n",
      "[-80. -80. -80. -80. -80.]\n",
      "[-80. -80. -80. -80. -80.]\n",
      "[-80. -80. -80. -80. -80.]\n"
     ]
    }
   ],
   "source": [
    "print(spectogram1[128-1][len(spectogram1[127])-6:len(spectogram1[127])-1])\n",
    "print(spectogram1[128-2][len(spectogram1[127])-6:len(spectogram1[127])-1])\n",
    "print(spectogram1[128-3][len(spectogram1[127])-6:len(spectogram1[127])-1])\n",
    "print(spectogram1[128-4][len(spectogram1[127])-6:len(spectogram1[127])-1])\n",
    "print(spectogram1[128-5][len(spectogram1[127])-6:len(spectogram1[127])-1])"
   ]
  },
  {
   "cell_type": "markdown",
   "id": "4bf6de56",
   "metadata": {},
   "source": [
    "Likewise, make the similar test for the spectogram 2"
   ]
  },
  {
   "cell_type": "code",
   "execution_count": 9,
   "id": "e7d4e4ad",
   "metadata": {},
   "outputs": [
    {
     "name": "stdout",
     "output_type": "stream",
     "text": [
      "[-80. -80. -80. -80. -80.]\n",
      "[-80. -80. -80. -80. -80.]\n",
      "[-80. -80. -80. -80. -80.]\n",
      "[-80. -80. -80. -80. -80.]\n",
      "[-80. -80. -80. -80. -80.]\n"
     ]
    }
   ],
   "source": [
    "print(spectogram2[128-1][len(spectogram2[127])-6:len(spectogram2[127])-1])\n",
    "print(spectogram2[128-2][len(spectogram2[127])-6:len(spectogram2[127])-1])\n",
    "print(spectogram2[128-3][len(spectogram2[127])-6:len(spectogram2[127])-1])\n",
    "print(spectogram2[128-4][len(spectogram2[127])-6:len(spectogram2[127])-1])\n",
    "print(spectogram2[128-5][len(spectogram2[127])-6:len(spectogram2[127])-1])"
   ]
  },
  {
   "cell_type": "markdown",
   "id": "1d722ec5",
   "metadata": {},
   "source": [
    "Apparently, blackness in the spectograms are represented with -80. in both graphs. We can adjust the length of the dataset by adding -80. at the end of each spectogram. Otherwise, they would be stretced to fit in a 256x256 frame.\n",
    "\n",
    "Start by checking the length of the spectograms of all the files.\n",
    "Find the location of the files in the local drvie."
   ]
  },
  {
   "cell_type": "code",
   "execution_count": 10,
   "id": "4d58e766-a865-4d44-88eb-978fe0e7d976",
   "metadata": {},
   "outputs": [],
   "source": [
    "del spectogram1\n",
    "del spectogram2\n",
    "\n",
    "folds = []\n",
    "fileInfo = []\n",
    "\n",
    "path = 'UrbanSound8K/audio/'\n",
    "\n",
    "for item in os.listdir(path):\n",
    "    if(os.path.isfile(path + item) == False):\n",
    "        folds.append(path + item)\n",
    "        \n",
    "for dirc in folds:\n",
    "    for fileX in os.listdir(dirc):\n",
    "        if (fileX[len(fileX)-3:] == 'wav'):\n",
    "            #Write file path and file name\n",
    "            curFileInf = [(dirc + \"/\" + fileX), fileX]\n",
    "            fileInfo.append(curFileInf)\n",
    "\n",
    "del folds"
   ]
  },
  {
   "cell_type": "markdown",
   "id": "43754700-fcb1-41b3-bce4-9403e910c313",
   "metadata": {},
   "source": [
    "Check how many files are there in total"
   ]
  },
  {
   "cell_type": "code",
   "execution_count": 11,
   "id": "75caf911",
   "metadata": {},
   "outputs": [
    {
     "data": {
      "text/plain": [
       "8732"
      ]
     },
     "execution_count": 11,
     "metadata": {},
     "output_type": "execute_result"
    }
   ],
   "source": [
    "len(fileInfo)"
   ]
  },
  {
   "cell_type": "markdown",
   "id": "1a17da9a",
   "metadata": {},
   "source": [
    "delete garbage data and create the spectograms of all the files."
   ]
  },
  {
   "cell_type": "code",
   "execution_count": 12,
   "id": "8a2762e0-64e0-4cbb-80bd-5207f5d4e901",
   "metadata": {},
   "outputs": [
    {
     "name": "stderr",
     "output_type": "stream",
     "text": [
      "C:\\Users\\goker\\AppData\\Local\\Programs\\Python\\Python310\\lib\\site-packages\\librosa\\util\\decorators.py:88: UserWarning: n_fft=2048 is too small for input signal of length=1103\n",
      "  return f(*args, **kwargs)\n",
      "C:\\Users\\goker\\AppData\\Local\\Programs\\Python\\Python310\\lib\\site-packages\\librosa\\util\\decorators.py:88: UserWarning: n_fft=2048 is too small for input signal of length=1323\n",
      "  return f(*args, **kwargs)\n",
      "C:\\Users\\goker\\AppData\\Local\\Programs\\Python\\Python310\\lib\\site-packages\\librosa\\util\\decorators.py:88: UserWarning: n_fft=2048 is too small for input signal of length=1523\n",
      "  return f(*args, **kwargs)\n"
     ]
    }
   ],
   "source": [
    "specs = []\n",
    "for Sound in fileInfo:\n",
    "    curAts, curRt = librosa.load(Sound[0])\n",
    "    curData = [(create_spectogram(curAts, curRt)), Sound[1]]\n",
    "    specs.append(curData)\n",
    "    \n",
    "del fileInfo\n",
    "    "
   ]
  },
  {
   "cell_type": "markdown",
   "id": "4f2f4959",
   "metadata": {},
   "source": [
    "Check random spectograms"
   ]
  },
  {
   "cell_type": "code",
   "execution_count": 13,
   "id": "c1bd3233",
   "metadata": {},
   "outputs": [
    {
     "data": {
      "text/plain": [
       "'165192-9-0-160.wav'"
      ]
     },
     "execution_count": 13,
     "metadata": {},
     "output_type": "execute_result"
    }
   ],
   "source": [
    "specs[6546][1]"
   ]
  },
  {
   "cell_type": "code",
   "execution_count": 28,
   "id": "f407863a",
   "metadata": {},
   "outputs": [
    {
     "data": {
      "image/png": "[encoded data removed]",
      "text/plain": [
       "<Figure size 256x256 with 1 Axes>"
      ]
     },
     "metadata": {},
     "output_type": "display_data"
    }
   ],
   "source": [
    "specs[234][1]\n",
    "\n",
    "spareSpecs = specs\n",
    "\n",
    "matplotlib.pyplot.rcParams[\"figure.figsize\"] = [2.56, 2.56]\n",
    "matplotlib.pyplot.rcParams[\"figure.autolayout\"] = True\n",
    "\n",
    "fig, ax = matplotlib.pyplot.subplots(frameon = False)\n",
    "\n",
    "img = librosa.display.specshow(specs[245][0], x_axis='off', y_axis='off', sr=SampRate, fmax=8000, ax=ax)"
   ]
  },
  {
   "cell_type": "markdown",
   "id": "11491440",
   "metadata": {},
   "source": [
    "Find the longest spectogram"
   ]
  },
  {
   "cell_type": "code",
   "execution_count": 29,
   "id": "1159f5a0",
   "metadata": {},
   "outputs": [
    {
     "data": {
      "text/plain": [
       "174"
      ]
     },
     "execution_count": 29,
     "metadata": {},
     "output_type": "execute_result"
    }
   ],
   "source": [
    "lengths= []\n",
    "\n",
    "for spec in spareSpecs:\n",
    "    lengths.append(len(spec[0][0]))\n",
    "    \n",
    "max(lengths)"
   ]
  },
  {
   "cell_type": "markdown",
   "id": "86cddeef",
   "metadata": {},
   "source": [
    "Add -.80 to the end of each spectograms as much as the difference between its length and the longest spectogram"
   ]
  },
  {
   "cell_type": "code",
   "execution_count": 30,
   "id": "c3434b37",
   "metadata": {},
   "outputs": [],
   "source": [
    "del lengths\n",
    "\n",
    "for newSpec in spareSpecs:\n",
    "    additions = []\n",
    "    difference = 174 - len(newSpec[0][0])\n",
    "    addSet = []\n",
    "    if (difference >= 1):\n",
    "        for i in range(difference):\n",
    "            additions.append(-80.)\n",
    "        for t in range(128):\n",
    "            addSet.append(additions)\n",
    "            \n",
    "        newSpec[0] = numpy.append(newSpec[0], addSet, axis=1)\n",
    "\n",
    "del additions\n",
    "del addSet"
   ]
  },
  {
   "cell_type": "markdown",
   "id": "ac5baea4",
   "metadata": {},
   "source": [
    "check if all the spectograms have a length of 174"
   ]
  },
  {
   "cell_type": "code",
   "execution_count": 31,
   "id": "f784de6b",
   "metadata": {},
   "outputs": [
    {
     "name": "stdout",
     "output_type": "stream",
     "text": [
      "174\n"
     ]
    }
   ],
   "source": [
    "print(len(spareSpecs[7764][0][10]))"
   ]
  },
  {
   "cell_type": "markdown",
   "id": "58b72e15",
   "metadata": {},
   "source": [
    "save spectograms into related folder"
   ]
  },
  {
   "cell_type": "code",
   "execution_count": 32,
   "id": "5b20d915",
   "metadata": {},
   "outputs": [
    {
     "name": "stderr",
     "output_type": "stream",
     "text": [
      "C:\\Users\\goker\\AppData\\Local\\Temp\\ipykernel_8792\\3682587047.py:19: UserWarning: This figure includes Axes that are not compatible with tight_layout, so results might be incorrect.\n",
      "  matplotlib.pyplot.savefig(\"Spectograms/\" + category + \"/\" + fileName)\n"
     ]
    }
   ],
   "source": [
    "for SpecFile in spareSpecs:\n",
    "    \n",
    "    categoryAndNext = SpecFile[1][SpecFile[1].find(\"-\")+1:]\n",
    "    category = categoryAndNext[:categoryAndNext.find(\"-\")]\n",
    "    \n",
    "    fileName = SpecFile[1][:SpecFile[1].rfind(\".\")] + \".png\"\n",
    "    \n",
    "    matplotlib.pyplot.rcParams[\"figure.figsize\"] = [2.56, 2.56]\n",
    "    matplotlib.pyplot.rcParams[\"figure.autolayout\"] = True\n",
    "\n",
    "    fig, ax = matplotlib.pyplot.subplots(frameon = False,)\n",
    "    fig.frameon = False\n",
    "\n",
    "    ax = matplotlib.pyplot.Axes(fig, [0, 0, 1, 1])\n",
    "    ax.set_axis_off()\n",
    "    fig.add_axes(ax)\n",
    "\n",
    "    img = librosa.display.specshow(SpecFile[0], x_axis='off', y_axis='off', sr=sr1, fmax=8000, ax=ax)\n",
    "    matplotlib.pyplot.savefig(\"Spectograms/\" + category + \"/\" + fileName)\n",
    "    matplotlib.pyplot.close()"
   ]
  },
  {
   "cell_type": "code",
   "execution_count": null,
   "id": "452f908b",
   "metadata": {},
   "outputs": [],
   "source": []
  },
  {
   "cell_type": "code",
   "execution_count": null,
   "id": "7979dc4b",
   "metadata": {},
   "outputs": [],
   "source": []
  }
 ],
 "metadata": {
  "kernelspec": {
   "display_name": "Python 3 (ipykernel)",
   "language": "python",
   "name": "python3"
  },
  "language_info": {
   "codemirror_mode": {
    "name": "ipython",
    "version": 3
   },
   "file_extension": ".py",
   "mimetype": "text/x-python",
   "name": "python",
   "nbconvert_exporter": "python",
   "pygments_lexer": "ipython3",
   "version": "3.10.7"
  }
 },
 "nbformat": 4,
 "nbformat_minor": 5
}
